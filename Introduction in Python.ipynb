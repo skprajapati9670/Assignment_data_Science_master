{
 "cells": [
  {
   "cell_type": "markdown",
   "id": "508423da",
   "metadata": {},
   "source": [
    "# 1. Who developed Python Programming Language?"
   ]
  },
  {
   "cell_type": "markdown",
   "id": "10d0d753",
   "metadata": {},
   "source": [
    "Python was created by Guido van Rossum, and first released on February 20, 1991."
   ]
  },
  {
   "cell_type": "markdown",
   "id": "1863c96c",
   "metadata": {},
   "source": [
    "# 2. Which type of Programming does Python support?"
   ]
  },
  {
   "cell_type": "markdown",
   "id": "9fde82b1",
   "metadata": {},
   "source": [
    "Explanation: Python is an interpreted programming language, which supports object-oriented, structured, and functional programming."
   ]
  },
  {
   "cell_type": "markdown",
   "id": "5287762e",
   "metadata": {},
   "source": [
    "# 3. Is Python case sensitive when dealing with identifiers?"
   ]
  },
  {
   "cell_type": "markdown",
   "id": "f550eaa1",
   "metadata": {},
   "source": [
    "Yes, Python is a case-sensitive language. It considers that uppercase and lowercase characters are different. It is also applicable to identifiers. The property is useful while naming identifiers to make the code more readable and maintainable."
   ]
  },
  {
   "cell_type": "markdown",
   "id": "e9aa6f64",
   "metadata": {},
   "source": [
    "# 4. What is the correct extension of the Python file?"
   ]
  },
  {
   "cell_type": "markdown",
   "id": "4cf6c4fa",
   "metadata": {},
   "source": [
    "The correct extension for Python source code files is “. py”."
   ]
  },
  {
   "cell_type": "markdown",
   "id": "7d91be25",
   "metadata": {},
   "source": [
    "# 5. Is Python code compiled or interpreted?"
   ]
  },
  {
   "cell_type": "markdown",
   "id": "7b36f920",
   "metadata": {},
   "source": [
    "Python is an interpreted language, which means the source code of a Python program is converted into bytecode that is then executed by the Python virtual machine. "
   ]
  },
  {
   "cell_type": "markdown",
   "id": "4b74b893",
   "metadata": {},
   "source": [
    "# 6. Name a few blocks of code used to define in Python language?"
   ]
  },
  {
   "cell_type": "markdown",
   "id": "c880f34f",
   "metadata": {},
   "source": [
    "A Python program is constructed from code blocks. A block is a piece of Python program text that is executed as a unit. The following are blocks: a module, a function body, and a class definition."
   ]
  },
  {
   "cell_type": "markdown",
   "id": "9980fdfb",
   "metadata": {},
   "source": [
    "# 7. State a character used to give single-line comments in Python?"
   ]
  },
  {
   "cell_type": "markdown",
   "id": "9771ccd0",
   "metadata": {},
   "source": [
    " Python, we use the hash symbol # to write a single-line comment."
   ]
  },
  {
   "cell_type": "markdown",
   "id": "676929e5",
   "metadata": {},
   "source": [
    "# 8. Mention functions which can help us to find the version of python that we are currently working on?"
   ]
  },
  {
   "cell_type": "markdown",
   "id": "27cea1cb",
   "metadata": {},
   "source": [
    "The function sys. version can help us to find the version of python that we are currently working on."
   ]
  },
  {
   "cell_type": "markdown",
   "id": "a619c2f2",
   "metadata": {},
   "source": [
    "# 9. Python supports the creation of anonymous functions at runtime, using a construct called"
   ]
  },
  {
   "cell_type": "markdown",
   "id": "65e086f5",
   "metadata": {},
   "source": [
    "Python supports the creation of anonymous functions (i.e. functions that are not bound to a name) at runtime, using a construct called lambda. Lambda functions are restricted to a single expression."
   ]
  },
  {
   "cell_type": "markdown",
   "id": "a95e3e96",
   "metadata": {},
   "source": [
    "# 10. What does pip stand for python?"
   ]
  },
  {
   "cell_type": "markdown",
   "id": "3720787f",
   "metadata": {},
   "source": [
    "PIP is a recursive acronym for “Preferred Installer Program” or PIP Installs Packages. It is a command-line utility that installs, reinstalls, or uninstalls PyPI packages with one simple command: pip"
   ]
  },
  {
   "cell_type": "markdown",
   "id": "99fe6b26",
   "metadata": {},
   "source": [
    "# 11. Mention a few built-in functions in python?"
   ]
  },
  {
   "cell_type": "markdown",
   "id": "8b49447d",
   "metadata": {},
   "source": [
    "abs(),\n",
    "chr() ,\n",
    "dict() ,\n",
    "enumerate(), \n",
    "float() ,\n",
    "len(),\n",
    "list(),\n",
    "ord(),print(),help()"
   ]
  },
  {
   "cell_type": "markdown",
   "id": "5c3d2397",
   "metadata": {},
   "source": [
    "# 12. What is the maximum possible length of an identifier in Python?"
   ]
  },
  {
   "cell_type": "markdown",
   "id": "c8ad648f",
   "metadata": {},
   "source": [
    "An identifier can have a maximum length of 79 characters in Python."
   ]
  },
  {
   "cell_type": "markdown",
   "id": "6f90d2f6",
   "metadata": {},
   "source": [
    "# 13. What are the benefits of using Python?"
   ]
  },
  {
   "cell_type": "markdown",
   "id": "d6ab5c5b",
   "metadata": {},
   "source": [
    "Python's advantages include its simplicity, readability, extensive library support, cross-platform compatibility, and scalability.\n"
   ]
  },
  {
   "cell_type": "markdown",
   "id": "366b7492",
   "metadata": {},
   "source": [
    "# 14. How is memory managed in Python?"
   ]
  },
  {
   "cell_type": "markdown",
   "id": "58e29d95",
   "metadata": {},
   "source": [
    "Memory management in Python involves a private heap containing all Python objects and data structures. The management of this private heap is ensured internally by the Python memory manager."
   ]
  },
  {
   "cell_type": "markdown",
   "id": "6c432519",
   "metadata": {},
   "source": [
    "# 15. How to install Python on Windows and set path variables?"
   ]
  },
  {
   "cell_type": "code",
   "execution_count": 2,
   "id": "e0ffaf33",
   "metadata": {},
   "outputs": [],
   "source": [
    "#Step 1: Select Python Version.\n",
    "#Step 2: Download Python Executable Installer. \n",
    "#Step 3: Run Executable Installer. \n",
    "#Step 4: Add Python to Path (Optional).\n",
    "#Step 5: Verify Python Was Installed on Windows. \n",
    "#Step 6: Verify PIP Was Installed. \n",
    "#Step 7: Install virtualenv (Optional)."
   ]
  },
  {
   "cell_type": "markdown",
   "id": "8b044b78",
   "metadata": {},
   "source": [
    "# 16. Is indentation required in python?"
   ]
  },
  {
   "cell_type": "markdown",
   "id": "9a4361a9",
   "metadata": {},
   "source": [
    "In Python, indentation is used to define the structure and hierarchy of the code. It helps in visually organizing the code and making it more readable."
   ]
  },
  {
   "cell_type": "code",
   "execution_count": null,
   "id": "16b8f433",
   "metadata": {},
   "outputs": [],
   "source": []
  }
 ],
 "metadata": {
  "kernelspec": {
   "display_name": "Python 3 (ipykernel)",
   "language": "python",
   "name": "python3"
  },
  "language_info": {
   "codemirror_mode": {
    "name": "ipython",
    "version": 3
   },
   "file_extension": ".py",
   "mimetype": "text/x-python",
   "name": "python",
   "nbconvert_exporter": "python",
   "pygments_lexer": "ipython3",
   "version": "3.9.12"
  }
 },
 "nbformat": 4,
 "nbformat_minor": 5
}
