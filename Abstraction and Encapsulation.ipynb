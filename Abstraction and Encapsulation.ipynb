{
 "cells": [
  {
   "cell_type": "markdown",
   "id": "c5e43993",
   "metadata": {},
   "source": [
    "# Q1. What is Abstraction in OOps? Explain with an example."
   ]
  },
  {
   "cell_type": "markdown",
   "id": "1bc96651",
   "metadata": {},
   "source": [
    "Abstraction is one of the fundamental concepts in Object-Oriented Programming (OOP). It refers to the process of hiding the internal implementation details of an object and exposing only the essential features or behaviors to the outside world. Abstraction helps in reducing complexity by allowing the user to interact with an object at a higher level, without needing to understand the intricate workings of the object."
   ]
  },
  {
   "cell_type": "code",
   "execution_count": 1,
   "id": "a427c636",
   "metadata": {},
   "outputs": [],
   "source": [
    "class Car:\n",
    "    def __init__(self, make, model, year):\n",
    "        self.make = make\n",
    "        self.model = model\n",
    "        self.year = year\n",
    "    \n",
    "    def start_engine(self):\n",
    "        print(f\"{self.make} {self.model} engine started.\")\n",
    "    \n",
    "    def drive(self):\n",
    "        print(f\"{self.make} {self.model} is now driving.\")\n",
    "    \n",
    "    def stop_engine(self):\n",
    "        print(f\"{self.make} {self.model} engine stopped.\")\n"
   ]
  },
  {
   "cell_type": "code",
   "execution_count": 2,
   "id": "fc819a1c",
   "metadata": {},
   "outputs": [
    {
     "name": "stdout",
     "output_type": "stream",
     "text": [
      "Toyota Camry engine started.\n",
      "Toyota Camry is now driving.\n",
      "Toyota Camry engine stopped.\n"
     ]
    }
   ],
   "source": [
    "# Using the Car class\n",
    "my_car = Car(\"Toyota\", \"Camry\", 2021)\n",
    "my_car.start_engine()\n",
    "my_car.drive()\n",
    "my_car.stop_engine()\n"
   ]
  },
  {
   "cell_type": "markdown",
   "id": "b00096dd",
   "metadata": {},
   "source": [
    "# Q2. Differentiate between Abstraction and Encapsulation. Explain with an example."
   ]
  },
  {
   "cell_type": "markdown",
   "id": "b9f4279e",
   "metadata": {},
   "source": [
    "Abstraction is used to hide the internal functionality of the function from the users. The users only interact with the basic implementation of the function, but inner working is hidden. User is familiar with that \"what function does\" but they don't know \"how it does.\"\n",
    "\n",
    "In simple words, we all use the smartphone and very much familiar with its functions such as camera, voice-recorder, call-dialing, etc., but we don't know how these operations are happening in the background. Let's take another example - When we use the TV remote to increase the volume. We don't know how pressing a key increases the volume of the TV. We only know to press the \"+\" button to increase the volume."
   ]
  },
  {
   "cell_type": "code",
   "execution_count": 3,
   "id": "9527c697",
   "metadata": {},
   "outputs": [],
   "source": [
    "from abc import ABC, abstractmethod\n",
    "\n",
    "class BankAccount(ABC):\n",
    "    def __init__(self, account_number, balance):\n",
    "        self.account_number = account_number\n",
    "        self.balance = balance\n",
    "\n",
    "    @abstractmethod\n",
    "    def deposit(self, amount):\n",
    "        pass\n",
    "\n",
    "    @abstractmethod\n",
    "    def withdraw(self, amount):\n",
    "        pass\n",
    "\n",
    "    def get_balance(self):\n",
    "        return self.balance\n"
   ]
  },
  {
   "cell_type": "markdown",
   "id": "65edb42c",
   "metadata": {},
   "source": [
    "Encapsulation is one of the fundamental concepts in object-oriented programming (OOP). It describes the idea of wrapping data and the methods that work on data within one unit. This puts restrictions on accessing variables and methods directly and can prevent the accidental modification of data. To prevent accidental change, an object’s variable can only be changed by an object’s method. Those types of variables are known as private variables.\n",
    "\n",
    "A class is an example of encapsulation as it encapsulates all the data that is member functions, variables, etc. The goal of information hiding is to ensure that an object’s state is always valid by controlling access to attributes that are hidden from the outside world."
   ]
  },
  {
   "cell_type": "code",
   "execution_count": 4,
   "id": "2c229181",
   "metadata": {},
   "outputs": [],
   "source": [
    "class Person:\n",
    "    def __init__(self, name, age):\n",
    "        self.name = name  # public attribute\n",
    "        self.__age = age  # private attribute\n",
    "\n",
    "    def get_age(self):\n",
    "        return self.__age\n",
    "\n",
    "    def set_age(self, age):\n",
    "        if age > 0:\n",
    "            self.__age = age\n",
    "        else:\n",
    "            print(\"Invalid age!\")\n",
    "\n",
    "    def display_info(self):\n",
    "        print(f\"Name: {self.name}, Age: {self.get_age()}\")\n"
   ]
  },
  {
   "cell_type": "markdown",
   "id": "fb92be4f",
   "metadata": {},
   "source": [
    "# Q3. What is abc module in python? Why is it used?"
   ]
  },
  {
   "cell_type": "markdown",
   "id": "9cb5c7a6",
   "metadata": {},
   "source": [
    "The abc module in Python stands for Abstract Base Classes. It is a module that provides tools for defining abstract base classes, which are classes that cannot be instantiated directly and are meant to serve as a blueprint for other classes."
   ]
  },
  {
   "cell_type": "markdown",
   "id": "72e709f7",
   "metadata": {},
   "source": [
    "Why is the abc Module Used?\n",
    "Enforcing Interface Compliance: The abc module allows you to define methods that must be implemented by any subclass. This is useful for ensuring that subclasses adhere to a specific interface or protocol. If a subclass does not implement these methods, Python will raise a TypeError.\n",
    "\n",
    "Creating Abstract Methods: With the abc module, you can define abstract methods using the @abstractmethod decorator. These methods do not provide an implementation in the base class and must be overridden in the subclasses.\n",
    "\n",
    "Enhancing Code Organization: By using abstract base classes, you can organize your code more effectively by separating the definition of common interfaces from their concrete implementations"
   ]
  },
  {
   "cell_type": "markdown",
   "id": "a8a3e5bd",
   "metadata": {},
   "source": [
    "# Q4. How can we achieve data abstraction?"
   ]
  },
  {
   "cell_type": "markdown",
   "id": "a014f7d8",
   "metadata": {},
   "source": [
    "1. Using Classes and Objects\n",
    "Classes in Python are the primary way to achieve data abstraction. By defining a class, you can create an interface that hides the internal details of the data and operations, exposing only the necessary functionalities to the user"
   ]
  },
  {
   "cell_type": "code",
   "execution_count": 5,
   "id": "f50c2a45",
   "metadata": {},
   "outputs": [
    {
     "name": "stdout",
     "output_type": "stream",
     "text": [
      "Deposited: 500\n",
      "Withdrew: 300\n",
      "Current Balance: 1200\n"
     ]
    }
   ],
   "source": [
    "class BankAccount:\n",
    "    def __init__(self, account_number, balance):\n",
    "        self.account_number = account_number  # Public attribute\n",
    "        self.__balance = balance  # Private attribute\n",
    "\n",
    "    def deposit(self, amount):\n",
    "        if amount > 0:\n",
    "            self.__balance += amount\n",
    "            print(f\"Deposited: {amount}\")\n",
    "        else:\n",
    "            print(\"Invalid deposit amount!\")\n",
    "\n",
    "    def withdraw(self, amount):\n",
    "        if 0 < amount <= self.__balance:\n",
    "            self.__balance -= amount\n",
    "            print(f\"Withdrew: {amount}\")\n",
    "        else:\n",
    "            print(\"Insufficient funds or invalid amount!\")\n",
    "\n",
    "    def get_balance(self):\n",
    "        return self.__balance\n",
    "\n",
    "# Usage\n",
    "account = BankAccount(\"123456\", 1000)\n",
    "account.deposit(500)\n",
    "account.withdraw(300)\n",
    "print(\"Current Balance:\", account.get_balance())\n"
   ]
  },
  {
   "cell_type": "markdown",
   "id": "c9a2453b",
   "metadata": {},
   "source": [
    "2. Using Abstract Base Classes (ABCs)\n",
    "Abstract Base Classes (ABCs) provide a way to define abstract methods that must be implemented by any subclass. This ensures that the user interacts only with a well-defined interface, abstracting away the details."
   ]
  },
  {
   "cell_type": "code",
   "execution_count": 6,
   "id": "e2341e3a",
   "metadata": {},
   "outputs": [
    {
     "name": "stdout",
     "output_type": "stream",
     "text": [
      "Area: 200\n",
      "Perimeter: 60\n"
     ]
    }
   ],
   "source": [
    "from abc import ABC, abstractmethod\n",
    "\n",
    "class Shape(ABC):\n",
    "    @abstractmethod\n",
    "    def area(self):\n",
    "        pass\n",
    "\n",
    "    @abstractmethod\n",
    "    def perimeter(self):\n",
    "        pass\n",
    "\n",
    "class Rectangle(Shape):\n",
    "    def __init__(self, length, width):\n",
    "        self.length = length\n",
    "        self.width = width\n",
    "\n",
    "    def area(self):\n",
    "        return self.length * self.width\n",
    "\n",
    "    def perimeter(self):\n",
    "        return 2 * (self.length + self.width)\n",
    "\n",
    "# Usage\n",
    "rect = Rectangle(10, 20)\n",
    "print(\"Area:\", rect.area())\n",
    "print(\"Perimeter:\", rect.perimeter())\n"
   ]
  },
  {
   "cell_type": "markdown",
   "id": "82c89699",
   "metadata": {},
   "source": [
    "3. Using Properties (Getters and Setters)\n",
    "In Python, you can use the property() function or the @property decorator to define methods that act like attributes. This allows controlled access to private attributes, achieving data abstraction."
   ]
  },
  {
   "cell_type": "code",
   "execution_count": 7,
   "id": "914e83de",
   "metadata": {},
   "outputs": [
    {
     "name": "stdout",
     "output_type": "stream",
     "text": [
      "Radius: 5\n",
      "Area: 78.53975\n",
      "New Radius: 10\n",
      "New Area: 314.159\n"
     ]
    }
   ],
   "source": [
    "class Circle:\n",
    "    def __init__(self, radius):\n",
    "        self.__radius = radius  # Private attribute\n",
    "\n",
    "    @property\n",
    "    def radius(self):\n",
    "        return self.__radius\n",
    "\n",
    "    @radius.setter\n",
    "    def radius(self, value):\n",
    "        if value > 0:\n",
    "            self.__radius = value\n",
    "        else:\n",
    "            print(\"Invalid radius!\")\n",
    "\n",
    "    def area(self):\n",
    "        return 3.14159 * self.__radius ** 2\n",
    "\n",
    "# Usage\n",
    "circle = Circle(5)\n",
    "print(\"Radius:\", circle.radius)\n",
    "print(\"Area:\", circle.area())\n",
    "circle.radius = 10  # Using setter to change the radius\n",
    "print(\"New Radius:\", circle.radius)\n",
    "print(\"New Area:\", circle.area())\n"
   ]
  },
  {
   "cell_type": "markdown",
   "id": "4f73f60f",
   "metadata": {},
   "source": [
    "# Q5. Can we create an instance of an abstract class? Explain your answer."
   ]
  },
  {
   "cell_type": "markdown",
   "id": "d5cdff6b",
   "metadata": {},
   "source": [
    "No, you cannot create an instance of an abstract class in Python."
   ]
  },
  {
   "cell_type": "markdown",
   "id": "827a198b",
   "metadata": {},
   "source": [
    "An abstract class is designed to be a blueprint for other classes. It may contain one or more abstract methods, which are methods declared but contain no implementation. Abstract classes cannot be instantiated because they are incomplete by design—these abstract methods need to be implemented by subclasses.\n",
    "\n",
    "The primary purpose of an abstract class is to define a common interface for its subclasses. This ensures that all subclasses implement the necessary methods defined in the abstract class, thereby enforcing a contract between the abstract class and its subclasses."
   ]
  },
  {
   "cell_type": "code",
   "execution_count": null,
   "id": "88440189",
   "metadata": {},
   "outputs": [],
   "source": []
  }
 ],
 "metadata": {
  "kernelspec": {
   "display_name": "Python 3 (ipykernel)",
   "language": "python",
   "name": "python3"
  },
  "language_info": {
   "codemirror_mode": {
    "name": "ipython",
    "version": 3
   },
   "file_extension": ".py",
   "mimetype": "text/x-python",
   "name": "python",
   "nbconvert_exporter": "python",
   "pygments_lexer": "ipython3",
   "version": "3.9.12"
  }
 },
 "nbformat": 4,
 "nbformat_minor": 5
}
