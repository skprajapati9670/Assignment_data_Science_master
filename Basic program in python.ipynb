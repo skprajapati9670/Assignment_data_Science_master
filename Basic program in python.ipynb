{
 "cells": [
  {
   "cell_type": "markdown",
   "id": "be11abd8",
   "metadata": {},
   "source": [
    "# 1. Write a program to accept percentage from the user and display the grade according to the following criteria:\n",
    "Marks            Grade\n",
    ">90                A\n",
    ">80 and <=90       B\n",
    ">=60 and <>80      C\n",
    "below 60           D\n",
    "      \n",
    "\n",
    "\n"
   ]
  },
  {
   "cell_type": "code",
   "execution_count": 4,
   "id": "a865605b",
   "metadata": {},
   "outputs": [
    {
     "name": "stdout",
     "output_type": "stream",
     "text": [
      "Enter a number100\n",
      " Grade A\n"
     ]
    }
   ],
   "source": [
    "num=int(input(\"Enter a number\"))\n",
    "if(num>90):\n",
    "    print(\" Grade A\")\n",
    "elif(num>80 and num<=90):\n",
    "    print(\"Grade B \")\n",
    "elif(num>=60 and num<=80):\n",
    "    print(\"Grade C \")\n",
    "elif(num>60):\n",
    "    print(\"Grade D\")\n",
    "    "
   ]
  },
  {
   "cell_type": "markdown",
   "id": "440ae83a",
   "metadata": {},
   "source": [
    "# 2 Write a program to accept the cost price of a bike and display the road tax to be paid according to the following criteria:\n",
    "Tax    Cost Price(in Rs)\n",
    "15%      >100000\n",
    "10%      >50000 and <=10000\n",
    "5%       <=50000"
   ]
  },
  {
   "cell_type": "code",
   "execution_count": 6,
   "id": "fe85931a",
   "metadata": {},
   "outputs": [
    {
     "name": "stdout",
     "output_type": "stream",
     "text": [
      "Enter the cost price of the bike (in Rs): 100000\n",
      "The road tax to be paid is: Rs 10000.00\n"
     ]
    }
   ],
   "source": [
    "def calculate_road_tax(cost_price):\n",
    "    if cost_price > 100000:\n",
    "        tax = 0.15 * cost_price\n",
    "    elif 50000 < cost_price <= 100000:\n",
    "        tax = 0.10 * cost_price\n",
    "    else:\n",
    "        tax = 0.05 * cost_price\n",
    "    return tax\n",
    "cost_price = float(input(\"Enter the cost price of the bike (in Rs): \"))\n",
    "\n",
    "road_tax = calculate_road_tax(cost_price)\n",
    "\n",
    "print(f\"The road tax to be paid is: Rs {road_tax:.2f}\")\n"
   ]
  },
  {
   "cell_type": "markdown",
   "id": "fc8dadd2",
   "metadata": {},
   "source": [
    "# 3. Accept any city from the user and display monuments of that city.\n",
    "City        Monument\n",
    "Delhi       Red Fort\n",
    "Agra        Taj Mahal\n",
    "Jaipur      Jal Mahal"
   ]
  },
  {
   "cell_type": "code",
   "execution_count": 7,
   "id": "fae5e1fa",
   "metadata": {},
   "outputs": [
    {
     "name": "stdout",
     "output_type": "stream",
     "text": [
      "Enter the name of the city: Delhi\n",
      "The monument in Delhi is: Red Fort\n"
     ]
    }
   ],
   "source": [
    "# Function to get the monument based on the city\n",
    "def get_monument(city):\n",
    "    monuments = {\n",
    "        \"Delhi\": \"Red Fort\",\n",
    "        \"Agra\": \"Taj Mahal\",\n",
    "        \"Jaipur\": \"Jal Mahal\"\n",
    "    }\n",
    "    return monuments.get(city, \"No monument found for the specified city\")\n",
    "\n",
    "# Accepting city name from the user\n",
    "city = input(\"Enter the name of the city: \")\n",
    "\n",
    "# Displaying the corresponding monument\n",
    "monument = get_monument(city)\n",
    "print(f\"The monument in {city} is: {monument}\")\n"
   ]
  },
  {
   "cell_type": "markdown",
   "id": "d146f023",
   "metadata": {},
   "source": [
    "# 4. Check how many times a given number can be divided by 3 before it is less than or equal to 10."
   ]
  },
  {
   "cell_type": "code",
   "execution_count": 8,
   "id": "3cc4db41",
   "metadata": {},
   "outputs": [
    {
     "name": "stdout",
     "output_type": "stream",
     "text": [
      "Enter a number: 10\n",
      "The number can be divided by 3, 0 times before it is less than or equal to 10.\n"
     ]
    }
   ],
   "source": [
    "# Function to count the number of divisions by 3\n",
    "def count_divisions_by_3(number):\n",
    "    count = 0\n",
    "    while number > 10:\n",
    "        number /= 3\n",
    "        count += 1\n",
    "    return count\n",
    "\n",
    "# Accepting the number from the user\n",
    "number = float(input(\"Enter a number: \"))\n",
    "\n",
    "# Calculating the number of divisions\n",
    "divisions_count = count_divisions_by_3(number)\n",
    "\n",
    "# Displaying the result\n",
    "print(f\"The number can be divided by 3, {divisions_count} times before it is less than or equal to 10.\")\n"
   ]
  },
  {
   "cell_type": "markdown",
   "id": "16682325",
   "metadata": {},
   "source": [
    "# 5. Why and When to Use while Loop in Python give a detailed description with example"
   ]
  },
  {
   "cell_type": "markdown",
   "id": "2a000120",
   "metadata": {},
   "source": [
    "    When to Use a while Loop\n",
    "Indeterminate Number of Iterations:\n",
    "\n",
    "Use a while loop when the number of iterations is not known beforehand and depends on dynamic conditions that are evaluated during runtime.\n",
    "Condition-Based Execution:\n",
    "\n",
    "When you need to execute a block of code based on a condition that is evaluated each time before the code block is executed.\n",
    "Infinite Loops:\n",
    "\n",
    "If you need to create a loop that runs indefinitely until a certain condition is met (like waiting for user input or an external event)."
   ]
  },
  {
   "cell_type": "markdown",
   "id": "2a7f7bf3",
   "metadata": {},
   "source": [
    "Why to Use a while Loop\n",
    "Flexibility:\n",
    "\n",
    "while loops provide flexibility when the number of iterations is not fixed. This makes them ideal for situations where the loop needs to keep running until a certain condition changes.\n",
    "Control Flow:\n",
    "\n",
    "It allows for more complex control flows within loops. You can use break to exit the loop early or continue to skip the current iteration and move to the next one.\n",
    "Dynamic Conditions:\n",
    "\n",
    "Suitable for scenarios where the condition for continuing the loop is based on user input or results from other computations, making it a good choice for real-time or interactive applications."
   ]
  },
  {
   "cell_type": "code",
   "execution_count": 9,
   "id": "7e3d1ecd",
   "metadata": {},
   "outputs": [
    {
     "name": "stdout",
     "output_type": "stream",
     "text": [
      "Please enter 'yes' or 'no': sumit\n",
      "Invalid input. Please try again.\n",
      "Please enter 'yes' or 'no': yes\n",
      "You entered a valid response: yes\n"
     ]
    }
   ],
   "source": [
    "user_input = \"\"\n",
    "\n",
    "while user_input.lower() not in ['yes', 'no']:\n",
    "    user_input = input(\"Please enter 'yes' or 'no': \").strip()\n",
    "    if user_input.lower() not in ['yes', 'no']:\n",
    "        print(\"Invalid input. Please try again.\")\n",
    "print(f\"You entered a valid response: {user_input}\")\n"
   ]
  },
  {
   "cell_type": "markdown",
   "id": "bb0e69fa",
   "metadata": {},
   "source": [
    "# 6. Use nested while loop to print 3 different pattern."
   ]
  },
  {
   "cell_type": "code",
   "execution_count": 12,
   "id": "68c049a3",
   "metadata": {},
   "outputs": [
    {
     "name": "stdout",
     "output_type": "stream",
     "text": [
      "* \n",
      "* * \n",
      "* * * \n",
      "* * * * \n",
      "* * * * * \n"
     ]
    }
   ],
   "source": [
    "#Right-Angled Triangle Pattern\n",
    "n = 5  \n",
    "\n",
    "i = 1\n",
    "while i <= n:\n",
    "    j = 1\n",
    "    while j <= i:\n",
    "        print('*', end=' ')\n",
    "        j += 1\n",
    "    print()  \n",
    "    i += 1\n"
   ]
  },
  {
   "cell_type": "code",
   "execution_count": 13,
   "id": "1ad5dace",
   "metadata": {},
   "outputs": [
    {
     "name": "stdout",
     "output_type": "stream",
     "text": [
      "* * * * * \n",
      "* * * * * \n",
      "* * * * * \n",
      "* * * * * \n",
      "* * * * * \n"
     ]
    }
   ],
   "source": [
    "# Square Pattern\n",
    "n = 5  \n",
    "\n",
    "i = 1\n",
    "while i <= n:\n",
    "    j = 1\n",
    "    while j <= n:\n",
    "        print('*', end=' ')\n",
    "        j += 1\n",
    "    print()  \n",
    "    i += 1\n"
   ]
  },
  {
   "cell_type": "code",
   "execution_count": 16,
   "id": "a94b50cd",
   "metadata": {},
   "outputs": [
    {
     "name": "stdout",
     "output_type": "stream",
     "text": [
      "        * \n",
      "      * * * \n",
      "    * * * * * \n",
      "  * * * * * * * \n",
      "* * * * * * * * * \n"
     ]
    }
   ],
   "source": [
    "# Pyramid Pattern\n",
    "n = 5  \n",
    "\n",
    "i = 1\n",
    "while i <= n:\n",
    "    \n",
    "    spaces = n - i\n",
    "    j = 1\n",
    "    while j <= spaces:\n",
    "        print(' ', end=' ')\n",
    "        j += 1\n",
    "   \n",
    "    stars = 2 * i - 1\n",
    "    j = 1\n",
    "    while j <= stars:\n",
    "        print('*', end=' ')\n",
    "        j += 1\n",
    "\n",
    "    print()  \n",
    "    i += 1\n"
   ]
  },
  {
   "cell_type": "markdown",
   "id": "3d7bc1c0",
   "metadata": {},
   "source": [
    "# 7. Reverse a while loop to display numbers from 10 to 1."
   ]
  },
  {
   "cell_type": "code",
   "execution_count": 17,
   "id": "c6af5989",
   "metadata": {},
   "outputs": [
    {
     "name": "stdout",
     "output_type": "stream",
     "text": [
      "10\n",
      "9\n",
      "8\n",
      "7\n",
      "6\n",
      "5\n",
      "4\n",
      "3\n",
      "2\n",
      "1\n"
     ]
    }
   ],
   "source": [
    "number = 10\n",
    "while number >= 1:\n",
    "    print(number)\n",
    "    number -= 1 \n"
   ]
  },
  {
   "cell_type": "markdown",
   "id": "a0f3c02f",
   "metadata": {},
   "source": [
    "# 8. Reverse a while loop to display numbers from 10 to 1"
   ]
  },
  {
   "cell_type": "code",
   "execution_count": 19,
   "id": "bc67f13a",
   "metadata": {},
   "outputs": [
    {
     "name": "stdout",
     "output_type": "stream",
     "text": [
      "10\n",
      "9\n",
      "8\n",
      "7\n",
      "6\n",
      "5\n",
      "4\n",
      "3\n",
      "2\n",
      "1\n"
     ]
    }
   ],
   "source": [
    "number = 10\n",
    "while number >= 1:\n",
    "    print(number)\n",
    "    number -= 1 \n"
   ]
  },
  {
   "cell_type": "code",
   "execution_count": null,
   "id": "2e87c834",
   "metadata": {},
   "outputs": [],
   "source": []
  }
 ],
 "metadata": {
  "kernelspec": {
   "display_name": "Python 3 (ipykernel)",
   "language": "python",
   "name": "python3"
  },
  "language_info": {
   "codemirror_mode": {
    "name": "ipython",
    "version": 3
   },
   "file_extension": ".py",
   "mimetype": "text/x-python",
   "name": "python",
   "nbconvert_exporter": "python",
   "pygments_lexer": "ipython3",
   "version": "3.9.12"
  }
 },
 "nbformat": 4,
 "nbformat_minor": 5
}
