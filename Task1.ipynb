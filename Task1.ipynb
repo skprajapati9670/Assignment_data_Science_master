{
 "cells": [
  {
   "cell_type": "markdown",
   "id": "e92795d6",
   "metadata": {},
   "source": [
    "# Q1. Create a function which will take a list as an argument and return the product of all the numbers after creating a flat list.\n",
    "Use the below-given list as an argument for your function.\n",
    "list1 = [1,2,3,4, [44,55,66, True], False, (34,56,78,89,34), {1,2,3,3,2,1}, {1:34, \"key2\": [55, 67, 78, 89], 4: (45,\n",
    "22, 61, 34)}, [56, 'data science'], 'Machine Learning']"
   ]
  },
  {
   "cell_type": "code",
   "execution_count": 1,
   "id": "b67b07a2",
   "metadata": {},
   "outputs": [
    {
     "name": "stdout",
     "output_type": "stream",
     "text": [
      "0\n"
     ]
    }
   ],
   "source": [
    "from functools import reduce\n",
    "import operator\n",
    "\n",
    "def flatten_list(nested_list):\n",
    "    \"\"\"Flatten a nested list into a single list.\"\"\"\n",
    "    flat_list = []\n",
    "    for item in nested_list:\n",
    "        if isinstance(item, list):\n",
    "            flat_list.extend(flatten_list(item))\n",
    "        elif isinstance(item, tuple):\n",
    "            flat_list.extend(flatten_list(list(item)))\n",
    "        elif isinstance(item, set):\n",
    "            flat_list.extend(flatten_list(list(item)))\n",
    "        elif isinstance(item, dict):\n",
    "            # Flatten dictionary values (ignore keys)\n",
    "            for value in item.values():\n",
    "                flat_list.extend(flatten_list([value]))\n",
    "        elif isinstance(item, (int, float)):\n",
    "            flat_list.append(item)\n",
    "    return flat_list\n",
    "\n",
    "def product_of_numbers(flat_list):\n",
    "    \"\"\"Calculate the product of all numbers in the flat list.\"\"\"\n",
    "    # Filter only numbers (int or float) and calculate the product\n",
    "    numbers = [x for x in flat_list if isinstance(x, (int, float))]\n",
    "    return reduce(operator.mul, numbers, 1)  # Use reduce to multiply all numbers\n",
    "\n",
    "def main(list1):\n",
    "    flat_list = flatten_list(list1)\n",
    "    return product_of_numbers(flat_list)\n",
    "\n",
    "# Given list\n",
    "list1 = [1,2,3,4, [44,55,66, True], False, (34,56,78,89,34), {1,2,3,3,2,1}, \n",
    "         {1:34, \"key2\": [55, 67, 78, 89], 4: (45, 22, 61, 34)}, [56, 'data science'], 'Machine Learning']\n",
    "\n",
    "# Calculate and print the product of all numbers\n",
    "print(main(list1))\n"
   ]
  },
  {
   "cell_type": "markdown",
   "id": "413d7c56",
   "metadata": {},
   "source": [
    "# Q2. Write a python program for encrypting a message sent to you by your friend. The logic of encryption should be such that, for a the output should be z. For b, the output should be y. For c, the output should be x respectively. Also, the whitespace should be replaced with a dollar sign. Keep the punctuation marks unchanged.\n",
    "Input Sentence: I want to become a Data Scientist.\n",
    "Encrypt the above input sentence using the program you just created.\n",
    "Note: Convert the given input sentence into lowercase before encrypting. The final output should be\n",
    "lowercase."
   ]
  },
  {
   "cell_type": "code",
   "execution_count": 2,
   "id": "677f7a4d",
   "metadata": {},
   "outputs": [
    {
     "name": "stdout",
     "output_type": "stream",
     "text": [
      "r$dzmg$gl$yvxlnv$z$wzgz$hxrvmgrhg.\n"
     ]
    }
   ],
   "source": [
    "def encrypt_message(message):\n",
    "    # Convert the input message to lowercase\n",
    "    message = message.lower()\n",
    "    \n",
    "    # Create the encryption mapping\n",
    "    encryption_map = {chr(i): chr(219 - i) for i in range(ord('a'), ord('z') + 1)}\n",
    "    encryption_map[' '] = '$'  # Replace whitespace with dollar sign\n",
    "    \n",
    "    # Encrypt the message using the mapping\n",
    "    encrypted_message = ''.join(encryption_map.get(char, char) for char in message)\n",
    "    \n",
    "    return encrypted_message\n",
    "\n",
    "# Input sentence\n",
    "input_sentence = \"I want to become a Data Scientist.\"\n",
    "\n",
    "# Encrypt the input sentence\n",
    "encrypted_sentence = encrypt_message(input_sentence)\n",
    "\n",
    "# Display the encrypted message\n",
    "print(encrypted_sentence)\n"
   ]
  },
  {
   "cell_type": "code",
   "execution_count": null,
   "id": "fa418707",
   "metadata": {},
   "outputs": [],
   "source": []
  }
 ],
 "metadata": {
  "kernelspec": {
   "display_name": "Python 3 (ipykernel)",
   "language": "python",
   "name": "python3"
  },
  "language_info": {
   "codemirror_mode": {
    "name": "ipython",
    "version": 3
   },
   "file_extension": ".py",
   "mimetype": "text/x-python",
   "name": "python",
   "nbconvert_exporter": "python",
   "pygments_lexer": "ipython3",
   "version": "3.9.12"
  }
 },
 "nbformat": 4,
 "nbformat_minor": 5
}
