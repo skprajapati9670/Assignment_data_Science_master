{
 "cells": [
  {
   "cell_type": "markdown",
   "id": "661597e7",
   "metadata": {},
   "source": [
    "# Q1. Explain Class and Object with respect to Object-Oriented Programming. Give a suitable example."
   ]
  },
  {
   "cell_type": "markdown",
   "id": "cb99274f",
   "metadata": {},
   "source": [
    "In Object-Oriented Programming (OOP), a class is a blueprint or a template for creating objects. It defines a set of attributes (data) and methods (functions) that the objects created from the class will have. Essentially, a class is a way to encapsulate data and the functions that operate on that data."
   ]
  },
  {
   "cell_type": "markdown",
   "id": "c61762ec",
   "metadata": {},
   "source": [
    "An object is an instance of a class. When you create an object, you are instantiating the class, meaning you are creating a specific instance with its own unique data and the ability to use the methods defined by the class."
   ]
  },
  {
   "cell_type": "code",
   "execution_count": 1,
   "id": "23cb3183",
   "metadata": {},
   "outputs": [
    {
     "name": "stdout",
     "output_type": "stream",
     "text": [
      "Car: Toyota Corolla, Year: 2020\n"
     ]
    }
   ],
   "source": [
    "class Car:\n",
    "    def __init__(self, brand, model, year):\n",
    "        self.brand = brand  \n",
    "        self.model = model \n",
    "        self.year = year    \n",
    "    \n",
    "    def display_details(self):\n",
    "        print(f\"Car: {self.brand} {self.model}, Year: {self.year}\")\n",
    "\n",
    "\n",
    "my_car = Car(\"Toyota\", \"Corolla\", 2020)\n",
    "\n",
    "\n",
    "my_car.display_details()  \n"
   ]
  },
  {
   "cell_type": "markdown",
   "id": "a3cc6eea",
   "metadata": {},
   "source": [
    "# Q2. Name the four pillars of OOPs."
   ]
  },
  {
   "cell_type": "markdown",
   "id": "797b7205",
   "metadata": {},
   "source": [
    "The four pillars of Object-Oriented Programming (OOP) are:"
   ]
  },
  {
   "cell_type": "markdown",
   "id": "58104aa3",
   "metadata": {},
   "source": [
    "Encapsulation\n",
    "Inheritance\n",
    "Abstraction\n",
    "Polymorphism"
   ]
  },
  {
   "cell_type": "markdown",
   "id": "15aeaa57",
   "metadata": {},
   "source": [
    "# Q3. Explain why the __init__() function is used. Give a suitable example."
   ]
  },
  {
   "cell_type": "markdown",
   "id": "f16f5b09",
   "metadata": {},
   "source": [
    "The __init__() function is a special method in Python, known as a constructor. It is automatically called when an object of a class is created. The primary purpose of the __init__() function is to initialize the attributes of the object with specific values. This method allows you to set the initial state of an object by assigning values to the attributes defined in the class."
   ]
  },
  {
   "cell_type": "code",
   "execution_count": 4,
   "id": "a281795c",
   "metadata": {},
   "outputs": [
    {
     "name": "stdout",
     "output_type": "stream",
     "text": [
      "Student: Alice, Age: 14, Grade: 9th Grade\n"
     ]
    }
   ],
   "source": [
    "class Student:\n",
    "    def __init__(self, name, age, grade):\n",
    "        self.name = name  \n",
    "        self.age = age    \n",
    "        self.grade = grade  \n",
    "    def display_student(self):\n",
    "        print(f\"Student: {self.name}, Age: {self.age}, Grade: {self.grade}\")\n",
    "student1 = Student(\"Alice\", 14, \"9th Grade\")\n",
    "student1.display_student()  \n"
   ]
  },
  {
   "cell_type": "markdown",
   "id": "71c67400",
   "metadata": {},
   "source": [
    "# Q4. Why self is used in OOPs?"
   ]
  },
  {
   "cell_type": "markdown",
   "id": "603b2650",
   "metadata": {},
   "source": [
    "In Object-Oriented Programming (OOP), self is a reference to the current instance of the class. It is used as the first parameter in instance methods and allows you to access the attributes and methods of the class in Python. Essentially, self is how individual objects keep track of their own data and behavior."
   ]
  },
  {
   "cell_type": "markdown",
   "id": "2093ff89",
   "metadata": {},
   "source": [
    "# Q5. What is inheritance? Give an example for each type of inheritance."
   ]
  },
  {
   "cell_type": "markdown",
   "id": "71c29999",
   "metadata": {},
   "source": [
    "Inheritance is a fundamental concept in Object-Oriented Programming (OOP) that allows a new class (called a child class or subclass) to inherit properties and behaviors (attributes and methods) from an existing class (called a parent class or superclass)."
   ]
  },
  {
   "cell_type": "markdown",
   "id": "3ce21a27",
   "metadata": {},
   "source": [
    "# Types of Inheritance"
   ]
  },
  {
   "cell_type": "code",
   "execution_count": 5,
   "id": "a51604cd",
   "metadata": {},
   "outputs": [
    {
     "name": "stdout",
     "output_type": "stream",
     "text": [
      "Animal makes a sound\n",
      "Dog barks\n"
     ]
    }
   ],
   "source": [
    "#Single Inheritance:\n",
    "\n",
    "class Animal:\n",
    "    def sound(self):\n",
    "        print(\"Animal makes a sound\")\n",
    "\n",
    "class Dog(Animal):  \n",
    "    def bark(self):\n",
    "        print(\"Dog barks\")\n",
    "my_dog = Dog()\n",
    "my_dog.sound()  \n",
    "my_dog.bark()   \n"
   ]
  },
  {
   "cell_type": "code",
   "execution_count": 6,
   "id": "fdded5d1",
   "metadata": {},
   "outputs": [
    {
     "name": "stdout",
     "output_type": "stream",
     "text": [
      "Father's height\n",
      "Mother's intelligence\n",
      "Child's talent\n"
     ]
    }
   ],
   "source": [
    "#Multiple Inheritance:\n",
    "class Father:\n",
    "    def height(self):\n",
    "        print(\"Father's height\")\n",
    "\n",
    "class Mother:\n",
    "    def intelligence(self):\n",
    "        print(\"Mother's intelligence\")\n",
    "\n",
    "class Child(Father, Mother):  \n",
    "    def talent(self):\n",
    "        print(\"Child's talent\")\n",
    "\n",
    "\n",
    "my_child = Child()\n",
    "my_child.height()      \n",
    "my_child.intelligence() \n",
    "my_child.talent()      \n"
   ]
  },
  {
   "cell_type": "code",
   "execution_count": 8,
   "id": "27c584d5",
   "metadata": {},
   "outputs": [
    {
     "name": "stdout",
     "output_type": "stream",
     "text": [
      "Animal makes a sound\n",
      "Dog barks\n",
      "Bulldog is strong\n"
     ]
    }
   ],
   "source": [
    "#Multilevel Inheritance:\n",
    "class Animal:\n",
    "    def sound(self):\n",
    "        print(\"Animal makes a sound\")\n",
    "\n",
    "class Dog(Animal):  \n",
    "    def bark(self):\n",
    "        print(\"Dog barks\")\n",
    "\n",
    "class Bulldog(Dog):  \n",
    "    def strength(self):\n",
    "        print(\"Bulldog is strong\")\n",
    "\n",
    "\n",
    "my_bulldog = Bulldog()\n",
    "my_bulldog.sound()    \n",
    "my_bulldog.bark()     \n",
    "my_bulldog.strength()"
   ]
  },
  {
   "cell_type": "code",
   "execution_count": 9,
   "id": "b921c92b",
   "metadata": {},
   "outputs": [
    {
     "name": "stdout",
     "output_type": "stream",
     "text": [
      "Animal makes a sound\n",
      "Dog barks\n",
      "Animal makes a sound\n",
      "Cat meows\n"
     ]
    }
   ],
   "source": [
    "#Hierarchical Inheritance:\n",
    "class Animal:\n",
    "    def sound(self):\n",
    "        print(\"Animal makes a sound\")\n",
    "\n",
    "class Dog(Animal):  \n",
    "    def bark(self):\n",
    "        print(\"Dog barks\")\n",
    "\n",
    "class Cat(Animal):  \n",
    "    def meow(self):\n",
    "        print(\"Cat meows\")\n",
    "\n",
    "\n",
    "my_dog = Dog()\n",
    "my_dog.sound()  \n",
    "my_dog.bark()   \n",
    "\n",
    "my_cat = Cat()\n",
    "my_cat.sound()  \n",
    "my_cat.meow()   "
   ]
  },
  {
   "cell_type": "code",
   "execution_count": 10,
   "id": "d43b1282",
   "metadata": {},
   "outputs": [
    {
     "name": "stdout",
     "output_type": "stream",
     "text": [
      "Vehicle has an engine\n",
      "Car has four wheels\n",
      "Boat has sails\n",
      "Can operate on land and water\n"
     ]
    }
   ],
   "source": [
    "#Hybrid Inheritance\n",
    "class Vehicle:\n",
    "    def engine(self):\n",
    "        print(\"Vehicle has an engine\")\n",
    "\n",
    "class Car(Vehicle):  \n",
    "    def wheels(self):\n",
    "        print(\"Car has four wheels\")\n",
    "\n",
    "class Boat(Vehicle):  \n",
    "    def sails(self):\n",
    "        print(\"Boat has sails\")\n",
    "\n",
    "class AmphibiousVehicle(Car, Boat):  \n",
    "    def amphibious(self):\n",
    "        print(\"Can operate on land and water\")\n",
    "\n",
    "\n",
    "my_amphibious_vehicle = AmphibiousVehicle()\n",
    "my_amphibious_vehicle.engine()     \n",
    "my_amphibious_vehicle.wheels()     \n",
    "my_amphibious_vehicle.sails()      \n",
    "my_amphibious_vehicle.amphibious() "
   ]
  },
  {
   "cell_type": "code",
   "execution_count": null,
   "id": "6a06fd5d",
   "metadata": {},
   "outputs": [],
   "source": []
  }
 ],
 "metadata": {
  "kernelspec": {
   "display_name": "Python 3 (ipykernel)",
   "language": "python",
   "name": "python3"
  },
  "language_info": {
   "codemirror_mode": {
    "name": "ipython",
    "version": 3
   },
   "file_extension": ".py",
   "mimetype": "text/x-python",
   "name": "python",
   "nbconvert_exporter": "python",
   "pygments_lexer": "ipython3",
   "version": "3.9.12"
  }
 },
 "nbformat": 4,
 "nbformat_minor": 5
}
