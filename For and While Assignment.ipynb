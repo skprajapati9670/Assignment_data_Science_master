{
 "cells": [
  {
   "cell_type": "markdown",
   "id": "d1cce8dc",
   "metadata": {},
   "source": [
    "# Q1. Explain with an example each when to use a for loop and a while loop."
   ]
  },
  {
   "cell_type": "markdown",
   "id": "3fa44893",
   "metadata": {},
   "source": [
    "for Loop\n",
    "A for loop is typically used when you know in advance how many times you need to iterate or when iterating over a sequence (like a list, tuple, or range). It's particularly useful for iterating over collections or sequences."
   ]
  },
  {
   "cell_type": "markdown",
   "id": "2980bffe",
   "metadata": {},
   "source": [
    "while Loop\n",
    "A while loop is used when you need to continue iterating until a certain condition is met. It's useful when you do not know in advance how many iterations are needed."
   ]
  },
  {
   "cell_type": "markdown",
   "id": "8eddbcbf",
   "metadata": {},
   "source": [
    "# Q2. Write a python program to print the sum and product of the first 10 natural numbers using for and while loop.\n"
   ]
  },
  {
   "cell_type": "code",
   "execution_count": 1,
   "id": "91c22d47",
   "metadata": {},
   "outputs": [
    {
     "name": "stdout",
     "output_type": "stream",
     "text": [
      "Sum of the first 10 natural numbers (using for loop): 55\n",
      "Product of the first 10 natural numbers (using for loop): 3628800\n"
     ]
    }
   ],
   "source": [
    "\n",
    "sum_of_numbers = 0\n",
    "product_of_numbers = 1\n",
    "\n",
    "for num in range(1, 11):\n",
    "    sum_of_numbers += num\n",
    "    product_of_numbers *= num\n",
    "\n",
    "print(f\"Sum of the first 10 natural numbers (using for loop): {sum_of_numbers}\")\n",
    "print(f\"Product of the first 10 natural numbers (using for loop): {product_of_numbers}\")\n"
   ]
  },
  {
   "cell_type": "code",
   "execution_count": 3,
   "id": "1ce8f674",
   "metadata": {},
   "outputs": [
    {
     "name": "stdout",
     "output_type": "stream",
     "text": [
      "Sum of the first 10 natural numbers (using while loop): 55\n",
      "Product of the first 10 natural numbers (using while loop): 3628800\n"
     ]
    }
   ],
   "source": [
    "num = 1\n",
    "sum_of_numbers = 0\n",
    "product_of_numbers = 1\n",
    "while num <= 10:\n",
    "    sum_of_numbers += num\n",
    "    product_of_numbers *= num\n",
    "    num += 1\n",
    "\n",
    "print(f\"Sum of the first 10 natural numbers (using while loop): {sum_of_numbers}\")\n",
    "print(f\"Product of the first 10 natural numbers (using while loop): {product_of_numbers}\")\n"
   ]
  },
  {
   "cell_type": "markdown",
   "id": "4292ccb2",
   "metadata": {},
   "source": [
    "# Q3. Create a python program to compute the electricity bill for a household.\n",
    "The per-unit charges in rupees are as follows: For the first 100 units, the user will be charged Rs. 4.5 per\n",
    "unit, for the next 100 units, the user will be charged Rs. 6 per unit, and for the next 100 units, the user will\n",
    "be charged Rs. 10 per unit, After 300 units and above the user will be charged Rs. 20 per unit.\n",
    "You are required to take the units of electricity consumed in a month from the user as input.\n",
    "Your program must pass this test case: when the unit of electricity consumed by the user in a month is\n",
    "310, the total electricity bill should be 2250.\n"
   ]
  },
  {
   "cell_type": "code",
   "execution_count": 4,
   "id": "f31c8bec",
   "metadata": {},
   "outputs": [
    {
     "name": "stdout",
     "output_type": "stream",
     "text": [
      "Enter the number of units consumed: 100\n",
      "The total electricity bill is: Rs. 450.00\n"
     ]
    }
   ],
   "source": [
    "def calculate_electricity_bill(units):\n",
    "    # Initialize bill amount\n",
    "    bill = 0\n",
    "    \n",
    "    # Calculate the bill based on the units consumed\n",
    "    if units <= 100:\n",
    "        bill = units * 4.5\n",
    "    elif units <= 200:\n",
    "        bill = (100 * 4.5) + ((units - 100) * 6)\n",
    "    elif units <= 300:\n",
    "        bill = (100 * 4.5) + (100 * 6) + ((units - 200) * 10)\n",
    "    else:\n",
    "        bill = (100 * 4.5) + (100 * 6) + (100 * 10) + ((units - 300) * 20)\n",
    "    \n",
    "    return bill\n",
    "\n",
    "# Get the number of units consumed from the user\n",
    "units_consumed = float(input(\"Enter the number of units consumed: \"))\n",
    "\n",
    "# Calculate the total bill\n",
    "total_bill = calculate_electricity_bill(units_consumed)\n",
    "\n",
    "# Print the total bill\n",
    "print(f\"The total electricity bill is: Rs. {total_bill:.2f}\")\n"
   ]
  },
  {
   "cell_type": "markdown",
   "id": "86b27ada",
   "metadata": {},
   "source": [
    "# Q4. Create a list of numbers from 1 to 100. Use for loop and while loop to calculate the cube of each number and if the cube of that number is divisible by 4 or 5 then append that number in a list and print that list.\n",
    "\n"
   ]
  },
  {
   "cell_type": "code",
   "execution_count": 5,
   "id": "bec4af01",
   "metadata": {},
   "outputs": [
    {
     "name": "stdout",
     "output_type": "stream",
     "text": [
      "Numbers whose cubes are divisible by 4 or 5 (using for loop):\n",
      "[2, 4, 5, 6, 8, 10, 12, 14, 15, 16, 18, 20, 22, 24, 25, 26, 28, 30, 32, 34, 35, 36, 38, 40, 42, 44, 45, 46, 48, 50, 52, 54, 55, 56, 58, 60, 62, 64, 65, 66, 68, 70, 72, 74, 75, 76, 78, 80, 82, 84, 85, 86, 88, 90, 92, 94, 95, 96, 98, 100]\n"
     ]
    }
   ],
   "source": [
    "# Initialize the list to store numbers whose cubes are divisible by 4 or 5\n",
    "divisible_list_for = []\n",
    "\n",
    "# Generate numbers from 1 to 100 and check the condition using a for loop\n",
    "for num in range(1, 101):\n",
    "    cube = num ** 3\n",
    "    if cube % 4 == 0 or cube % 5 == 0:\n",
    "        divisible_list_for.append(num)\n",
    "\n",
    "# Print the list\n",
    "print(\"Numbers whose cubes are divisible by 4 or 5 (using for loop):\")\n",
    "print(divisible_list_for)\n"
   ]
  },
  {
   "cell_type": "code",
   "execution_count": 6,
   "id": "9296a218",
   "metadata": {},
   "outputs": [
    {
     "name": "stdout",
     "output_type": "stream",
     "text": [
      "Numbers whose cubes are divisible by 4 or 5 (using while loop):\n",
      "[2, 4, 5, 6, 8, 10, 12, 14, 15, 16, 18, 20, 22, 24, 25, 26, 28, 30, 32, 34, 35, 36, 38, 40, 42, 44, 45, 46, 48, 50, 52, 54, 55, 56, 58, 60, 62, 64, 65, 66, 68, 70, 72, 74, 75, 76, 78, 80, 82, 84, 85, 86, 88, 90, 92, 94, 95, 96, 98, 100]\n"
     ]
    }
   ],
   "source": [
    "# Initialize variables\n",
    "num = 1\n",
    "divisible_list_while = []\n",
    "\n",
    "# Generate numbers from 1 to 100 and check the condition using a while loop\n",
    "while num <= 100:\n",
    "    cube = num ** 3\n",
    "    if cube % 4 == 0 or cube % 5 == 0:\n",
    "        divisible_list_while.append(num)\n",
    "    num += 1\n",
    "\n",
    "# Print the list\n",
    "print(\"Numbers whose cubes are divisible by 4 or 5 (using while loop):\")\n",
    "print(divisible_list_while)\n"
   ]
  },
  {
   "cell_type": "markdown",
   "id": "b04a76c1",
   "metadata": {},
   "source": [
    "# Q5. Write a program to filter count vowels in the below-given string.string = \"I want to become a data scientist\"\n"
   ]
  },
  {
   "cell_type": "code",
   "execution_count": 7,
   "id": "0dc8c980",
   "metadata": {},
   "outputs": [
    {
     "name": "stdout",
     "output_type": "stream",
     "text": [
      "The number of vowels in the string is: 12\n"
     ]
    }
   ],
   "source": [
    "string = \"I want to become a data scientist\"\n",
    "vowels = 'aeiouAEIOU'\n",
    "vowel_count = 0\n",
    "for char in string:\n",
    "    if char in vowels:\n",
    "        vowel_count += 1\n",
    "print(f\"The number of vowels in the string is: {vowel_count}\")\n"
   ]
  },
  {
   "cell_type": "code",
   "execution_count": null,
   "id": "394d90ce",
   "metadata": {},
   "outputs": [],
   "source": []
  }
 ],
 "metadata": {
  "kernelspec": {
   "display_name": "Python 3 (ipykernel)",
   "language": "python",
   "name": "python3"
  },
  "language_info": {
   "codemirror_mode": {
    "name": "ipython",
    "version": 3
   },
   "file_extension": ".py",
   "mimetype": "text/x-python",
   "name": "python",
   "nbconvert_exporter": "python",
   "pygments_lexer": "ipython3",
   "version": "3.9.12"
  }
 },
 "nbformat": 4,
 "nbformat_minor": 5
}
